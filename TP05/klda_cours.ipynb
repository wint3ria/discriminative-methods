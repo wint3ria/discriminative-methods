{
 "cells": [
  {
   "cell_type": "markdown",
   "metadata": {},
   "source": [
    "# <center> TP 4: Kernel Methods <br> Kernel Principal Components Analysis (KPCA)<br>Kernel Linear Discriminant Analysis(KLDA)<br> <small>Réda DEHAK<br> 12 December 2018</small> </center>\n",
    "\n",
    "The goal of this lab is :\n",
    "    - Test and use KPCA and [KLDA](https://doc.ml.tu-berlin.de/publications/publications/MikRaeWesSchMue99.pdf)\n",
    "    \n",
    "We will use the [optdigits dataset](https://archive.ics.uci.edu/ml/machine-learning-databases/optdigits/) from UCI. This database is a small set of handwritten digits compared to the MNIST databases. A preprocessing program available by NIST was used to extract 64 features which represent the number of on pixel of nonoverlapping blocks of 4x4 extracted from normalized image. [See](optdigits.names.txt) for more details."
   ]
  },
  {
   "cell_type": "markdown",
   "metadata": {},
   "source": [
    "- First, we will use generic data to test our algirthms: "
   ]
  },
  {
   "cell_type": "code",
   "execution_count": 1,
   "metadata": {},
   "outputs": [],
   "source": [
    "import pandas as pd\n",
    "import numpy as np\n",
    "import matplotlib.pyplot as plt\n",
    "from sklearn.metrics.pairwise import rbf_kernel, polynomial_kernel, linear_kernel\n",
    "from sklearn.decomposition import PCA, KernelPCA\n",
    "from sklearn.datasets import make_circles"
   ]
  },
  {
   "cell_type": "code",
   "execution_count": 2,
   "metadata": {},
   "outputs": [],
   "source": [
    "X, y = make_circles(n_samples=400, factor=.3, noise=.05)"
   ]
  },
  {
   "cell_type": "markdown",
   "metadata": {},
   "source": [
    "- Write a function that fit a KPCA on the X dataset, use the kernel function as a parameter.\n",
    "- Train a KPCA with linear kernel and compare the result to the classical PCA"
   ]
  },
  {
   "cell_type": "code",
   "execution_count": 108,
   "metadata": {},
   "outputs": [
    {
     "name": "stderr",
     "output_type": "stream",
     "text": [
      "/Users/berthierhadrien/.local/lib/python3.6/site-packages/ipykernel/__main__.py:29: RuntimeWarning: invalid value encountered in sqrt\n"
     ]
    }
   ],
   "source": [
    "def gram(X, D, K):\n",
    "        n_samples1, n_samples2 = X.shape[0], D.shape[0]\n",
    "        M = np.zeros((n_samples1, n_samples2))\n",
    "        for i in range(n_samples1):\n",
    "            for j in range(n_samples2):\n",
    "                M[i, j] = K(X[i,:], D[j,:])\n",
    "        return M\n",
    "    \n",
    "def centerGramMatrix(G):\n",
    "    Mline = np.mean(G, axis=1)\n",
    "    MCol = np.mean(G, axis=0)\n",
    "    Mean = np.mean(G[:])\n",
    "    for i in range(G.shape[0]):\n",
    "        for j in range(G.shape[1]):\n",
    "            G[i, j] = G[i, j] - Mline[i] - MCol[j] + Mean\n",
    "    return G\n",
    "\n",
    "def KernelPCA(X, K):\n",
    "    G = gram(X, X, K)\n",
    "    N = X.shape[0]\n",
    "    \n",
    "    #Gc = (np.eye(N) - (np.ones((N, N)) / N)) @ G @ (np.eye(N) - (np.ones((N, N)) / N))\n",
    "    Gc = centerGramMatrix(G)\n",
    "    \n",
    "    lam, u = np.linalg.eigh(Gc)\n",
    "    indice = np.argsort(lam)[::-1]\n",
    "    lam = lam[indice]\n",
    "    u = u[:,indice]\n",
    "    u = u @ np.diag(1/ np.sqrt(lam))\n",
    "    \n",
    "    return u.T @ Gc\n",
    "\n",
    "kernel = lambda x, x1: np.power(1 + (x.dot(x1.T)), 4)\n",
    "lin_kern = lambda x, y: x.dot(y)\n",
    "rbf_ker = lambda x, y: 10 * np.exp(-10 * np.linalg.norm(x - y)**2)\n",
    "a = KernelPCA(X, rbf_ker)"
   ]
  },
  {
   "cell_type": "code",
   "execution_count": 76,
   "metadata": {},
   "outputs": [
    {
     "name": "stdout",
     "output_type": "stream",
     "text": [
      "3.5160689011959207e-06\n",
      "4.440892098500626e-16\n",
      "0.0\n"
     ]
    },
    {
     "name": "stderr",
     "output_type": "stream",
     "text": [
      "/Users/berthierhadrien/.local/lib/python3.6/site-packages/ipykernel/__main__.py:6: RuntimeWarning: invalid value encountered in sqrt\n"
     ]
    }
   ],
   "source": [
    "g = gram(X, X, lin_kern)\n",
    "gc = centerGramMatrix(g)\n",
    "cov = np.cov(X.T, bias=True) * X.shape[0]\n",
    "lam1, v = np.linalg.eigh(cov)\n",
    "lam2, u = np.linalg.eigh(gc)\n",
    "u = u @ np.diag(1/ np.sqrt(lam2))\n",
    "M = np.mean(X, axis=0)\n",
    "Xc = X - np.ones((400, 1)) @ M.reshape((1, 2))\n",
    "maxi = np.max(np.abs(gc - Xc @ Xc.T))\n",
    "print(maxi)\n",
    "maxi2 = np.max(np.abs(cov - Xc.T @ Xc))\n",
    "print(maxi2)"
   ]
  },
  {
   "cell_type": "code",
   "execution_count": 69,
   "metadata": {},
   "outputs": [
    {
     "name": "stdout",
     "output_type": "stream",
     "text": [
      "(2, 2)\n",
      "[109.55883021 110.8363735 ]\n",
      "[109.55883021 110.8363735 ]\n",
      "(400, 2)\n"
     ]
    }
   ],
   "source": [
    "print(cov.shape)\n",
    "print(lam1)\n",
    "print(lam2[398:400])\n",
    "print(X.shape)"
   ]
  },
  {
   "cell_type": "code",
   "execution_count": 77,
   "metadata": {},
   "outputs": [
    {
     "name": "stdout",
     "output_type": "stream",
     "text": [
      "[[-0.91043061 -0.41366183]\n",
      " [-0.41366183  0.91043061]]\n",
      "[[-0.91043061  0.41366183]\n",
      " [-0.41366183 -0.91043061]]\n"
     ]
    }
   ],
   "source": [
    "print(v)\n",
    "print(X.T @ u[:,398:400])"
   ]
  },
  {
   "cell_type": "code",
   "execution_count": 85,
   "metadata": {},
   "outputs": [
    {
     "name": "stdout",
     "output_type": "stream",
     "text": [
      "(2, 400)\n"
     ]
    }
   ],
   "source": [
    "a = (gc @ u[:, 398:400]).T\n",
    "print(a.shape)"
   ]
  },
  {
   "cell_type": "code",
   "execution_count": 86,
   "metadata": {},
   "outputs": [],
   "source": [
    "reds = y == 0\n",
    "blues = y == 1"
   ]
  },
  {
   "cell_type": "code",
   "execution_count": 109,
   "metadata": {},
   "outputs": [
    {
     "data": {
      "text/plain": [
       "<matplotlib.collections.PathCollection at 0x110494c50>"
      ]
     },
     "execution_count": 109,
     "metadata": {},
     "output_type": "execute_result"
    },
    {
     "data": {
      "image/png": "[encoded data removed]",
      "text/plain": [
       "<Figure size 432x288 with 1 Axes>"
      ]
     },
     "metadata": {},
     "output_type": "display_data"
    }
   ],
   "source": [
    "plt.scatter(a[0, reds], a[1, reds], c=\"red\",\n",
    "            s=20, edgecolor='k')\n",
    "plt.scatter(a[0, blues], a[1, blues], c=\"blue\",\n",
    "            s=20, edgecolor='k')"
   ]
  },
  {
   "cell_type": "code",
   "execution_count": 113,
   "metadata": {},
   "outputs": [
    {
     "data": {
      "text/plain": [
       "<matplotlib.collections.PathCollection at 0x114ead400>"
      ]
     },
     "execution_count": 113,
     "metadata": {},
     "output_type": "execute_result"
    },
    {
     "data": {
      "image/png": "[encoded data removed]",
      "text/plain": [
       "<Figure size 432x288 with 1 Axes>"
      ]
     },
     "metadata": {},
     "output_type": "display_data"
    }
   ],
   "source": [
    "plt.scatter(b[reds, 0], b[reds, 1], c=\"red\",\n",
    "            s=20, edgecolor='k')\n",
    "plt.scatter(b[blues, 0], b[blues, 1], c=\"blue\",\n",
    "            s=20, edgecolor='k')"
   ]
  },
  {
   "cell_type": "code",
   "execution_count": 74,
   "metadata": {},
   "outputs": [
    {
     "ename": "NameError",
     "evalue": "name 'c' is not defined",
     "output_type": "error",
     "traceback": [
      "\u001b[0;31m---------------------------------------------------------------------------\u001b[0m",
      "\u001b[0;31mNameError\u001b[0m                                 Traceback (most recent call last)",
      "\u001b[0;32m<ipython-input-74-3bf98a293882>\u001b[0m in \u001b[0;36m<module>\u001b[0;34m()\u001b[0m\n\u001b[0;32m----> 1\u001b[0;31m plt.scatter(c[reds, 0], c[reds, 1], c=\"red\",\n\u001b[0m\u001b[1;32m      2\u001b[0m             s=20, edgecolor='k')\n\u001b[1;32m      3\u001b[0m plt.scatter(c[blues, 0], c[blues, 1], c=\"blue\",\n\u001b[1;32m      4\u001b[0m             s=20, edgecolor='k')\n",
      "\u001b[0;31mNameError\u001b[0m: name 'c' is not defined"
     ]
    }
   ],
   "source": [
    "plt.scatter(c[reds, 0], c[reds, 1], c=\"red\",\n",
    "            s=20, edgecolor='k')\n",
    "plt.scatter(c[blues, 0], c[blues, 1], c=\"blue\",\n",
    "            s=20, edgecolor='k')"
   ]
  },
  {
   "cell_type": "markdown",
   "metadata": {},
   "source": [
    "- Test the result with polynomial and RBF kernels"
   ]
  },
  {
   "cell_type": "code",
   "execution_count": null,
   "metadata": {},
   "outputs": [],
   "source": []
  },
  {
   "cell_type": "markdown",
   "metadata": {},
   "source": [
    "- Write a function that fit a KLDA on the X dataset, use the kernel function as a parameter.\n",
    "- Train a KLDA with linear kernel and compare the result to the classical LDA"
   ]
  },
  {
   "cell_type": "code",
   "execution_count": null,
   "metadata": {},
   "outputs": [],
   "source": []
  },
  {
   "cell_type": "markdown",
   "metadata": {},
   "source": [
    "- Real Data"
   ]
  },
  {
   "cell_type": "code",
   "execution_count": null,
   "metadata": {},
   "outputs": [],
   "source": [
    "dataTrain = pd.read_csv('optdigits.tra', header=None)\n",
    "dataTest = pd.read_csv('optdigits.tes', header=None)\n",
    "\n",
    "Xtrain = dataTrain.values[:,0:64]\n",
    "ytrain = dataTrain.values[:,64]\n",
    "\n",
    "Xtest = dataTest.values[:,0:64]\n",
    "ytest = dataTest.values[:,64]"
   ]
  },
  {
   "cell_type": "markdown",
   "metadata": {},
   "source": [
    "1- Try to use a KPCA of the training data (use different kernel functions)\n",
    "2- Plot each example of the training data in the first two factorial axis of PCA(2D space), use different color foreach classe? compare with the classical PCA, what did you conclude?"
   ]
  },
  {
   "cell_type": "code",
   "execution_count": null,
   "metadata": {},
   "outputs": [],
   "source": []
  },
  {
   "cell_type": "markdown",
   "metadata": {},
   "source": [
    "3- Train a logistic regression on the projected data into the $d$ first factorial axis of KPCA, and test the results on the testing data? try different values of $d$?    "
   ]
  },
  {
   "cell_type": "code",
   "execution_count": null,
   "metadata": {},
   "outputs": [],
   "source": []
  },
  {
   "cell_type": "markdown",
   "metadata": {},
   "source": [
    "4- We will try a Kernel Linear Discriminant Analysis method to separate the 10 classes. Train a Kernel Linear Discriminant Analysis on the training data and plot each example in the 2d plan corresponding to the two axis with largest eigen values? what did you conclude? (use different kernel functions)   "
   ]
  },
  {
   "cell_type": "code",
   "execution_count": null,
   "metadata": {},
   "outputs": [],
   "source": []
  },
  {
   "cell_type": "markdown",
   "metadata": {},
   "source": [
    "5- Train a logistic regression on the projected data into the $d$ first axis of KLDA? what did you remark and how to solve this problem?"
   ]
  },
  {
   "cell_type": "code",
   "execution_count": null,
   "metadata": {},
   "outputs": [],
   "source": []
  },
  {
   "cell_type": "markdown",
   "metadata": {},
   "source": [
    "6- Test the results on the testing data? try different values of $𝑑$? what did you conclude?"
   ]
  },
  {
   "cell_type": "code",
   "execution_count": null,
   "metadata": {},
   "outputs": [],
   "source": []
  },
  {
   "cell_type": "markdown",
   "metadata": {},
   "source": [
    "7- Do the same task with the MNIST dataset?"
   ]
  },
  {
   "cell_type": "code",
   "execution_count": null,
   "metadata": {},
   "outputs": [],
   "source": []
  }
 ],
 "metadata": {
  "kernelspec": {
   "display_name": "Python [default]",
   "language": "python",
   "name": "python3"
  },
  "language_info": {
   "codemirror_mode": {
    "name": "ipython",
    "version": 3
   },
   "file_extension": ".py",
   "mimetype": "text/x-python",
   "name": "python",
   "nbconvert_exporter": "python",
   "pygments_lexer": "ipython3",
   "version": "3.6.6"
  }
 },
 "nbformat": 4,
 "nbformat_minor": 2
}
