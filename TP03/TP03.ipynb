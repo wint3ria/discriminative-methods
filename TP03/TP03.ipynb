{
 "cells": [
  {
   "cell_type": "markdown",
   "metadata": {},
   "source": [
    "# <center> TP 3: Logistic Regression<br> <small>Réda DEHAK<br> 22 November 2018</small> </center>\n",
    "\n",
    "The goal of this lab is :\n",
    "    - Test the logistic regression on classification problems\n",
    "    \n",
    "We will use the [Wine dataset](https://archive.ics.uci.edu/ml/datasets/Wine) from UCI. These data are the results of a chemical analysis of wines grown in the same region in Italy but derived from three different cultivars. The analysis determined the quantities of thirteen constituents found in each of the three types of wines."
   ]
  },
  {
   "cell_type": "markdown",
   "metadata": {},
   "source": [
    "# Loading and Plotting Data\n",
    " \n",
    "First, we will use only two features from the data set: alcohol and ash (We can plot the solution in 2D space). The labels are supplied as an array of data with values from 1 to 3, but at first, we want a simple binary regression problem with a yes or no answer.  \n",
    "\n",
    "We filter the data set, reducing it to only include wines with labels 1 or 2.  "
   ]
  },
  {
   "cell_type": "code",
   "execution_count": 1,
   "metadata": {},
   "outputs": [],
   "source": [
    "import pandas as pd\n",
    "import numpy as np\n",
    "from sklearn.preprocessing import label_binarize\n",
    "\n",
    "data = pd.read_csv('data.txt')\n",
    "\n",
    "reduced = data[data['class'] <= 2]\n",
    "X = reduced.as_matrix(columns=['alcohol', 'ash'])\n",
    "y = label_binarize(reduced['class'].values, [1, 2])[:,0]"
   ]
  },
  {
   "cell_type": "code",
   "execution_count": 2,
   "metadata": {},
   "outputs": [
    {
     "name": "stdout",
     "output_type": "stream",
     "text": [
      "train: 97 test: 33\n"
     ]
    }
   ],
   "source": [
    "from sklearn.model_selection import train_test_split\n",
    "\n",
    "Xtrain, Xtest, ytrain, ytest = train_test_split(X, y, test_size=0.25)\n",
    "print('train:', len(Xtrain), 'test:', len(Xtest))"
   ]
  },
  {
   "cell_type": "code",
   "execution_count": 3,
   "metadata": {},
   "outputs": [
    {
     "data": {
      "image/png": "[encoded data removed]",
      "text/plain": [
       "<matplotlib.figure.Figure at 0x7fa75c8216d8>"
      ]
     },
     "metadata": {},
     "output_type": "display_data"
    }
   ],
   "source": [
    "import matplotlib.pyplot as plt\n",
    "%matplotlib inline\n",
    "\n",
    "MARKERS = ['+', 'x', '.']\n",
    "COLORS = ['red', 'green', 'blue']\n",
    "\n",
    "def plot_points(xy, labels):\n",
    "    \n",
    "    for i, label in enumerate(set(labels)):\n",
    "        points = np.array([xy[j,:] for j in range(len(xy)) if labels[j] == label])\n",
    "        marker = MARKERS[i % len(MARKERS)]\n",
    "        color = COLORS[i % len(COLORS)]\n",
    "        plt.scatter(points[:,0], points[:,1], marker=marker, color=color)\n",
    "\n",
    "plot_points(Xtrain, ytrain)"
   ]
  },
  {
   "cell_type": "markdown",
   "metadata": {},
   "source": [
    "We can see that we can plot line that could divide the two colored points with a small amount of error.\n",
    "\n",
    "# Logistic Regression\n",
    "\n",
    "To implement logistic regression, we need to define the cost function $J(\\theta)$, and compute the partial derivatives of $J(\\theta)$. As we have seen previously:\n",
    "\n",
    "$$\n",
    "J(\\theta) =-\\frac{1}{N}\\sum_{i=1}^{N}y_{i}\\log(f_\\theta(x_{i}))+(1-y_{i})\\log(1-f_\\theta(x_{i}))\n",
    "$$\n",
    "\n",
    "where $f_\\theta(x)$ is the logistic function\n",
    "\n",
    "$$\n",
    "f_\\theta(x) = \\frac{1}{1 + e^{-\\theta^Tx}}\n",
    "$$\n",
    "\n",
    "- Compute the partiel derivatives of $J(\\theta)$ and define the update formula of the gradient descent algorithm?"
   ]
  },
  {
   "cell_type": "markdown",
   "metadata": {},
   "source": [
    "_First we need the derivative of $f_{\\theta}$ against $\\theta$_\n",
    "\n",
    "_For each component $j$:_\n",
    "\n",
    "_$$\\frac{df_{\\theta}(x)}{d\\theta_j} = \\frac{d}{d\\theta_j}.\\frac{1}{1 + e^{-\\theta^Tx}} = \\frac{-x_j.e^{-\\theta^Tx}}{(1 + e^{-\\theta^Tx})^2}$$_\n",
    "\n",
    "_$$\\frac{df_{\\theta}(x)}{d\\theta_j} = f_\\theta(x).\\frac{-e^{-\\theta^Tx}}{1 + e^{-\\theta^Tx}}.x_j$$_\n",
    "\n",
    "_$$\\frac{df_{\\theta}(x)}{d\\theta_j} = f_\\theta(x).(1 - f_\\theta(x)).x_j$$_\n",
    "\n",
    "_We then derivate against each component:_\n",
    "\n",
    "_$$\\frac{df_{\\theta}(x)}{d\\theta} = f_\\theta(x).(1 - f_\\theta(x)).x$$_"
   ]
  },
  {
   "cell_type": "markdown",
   "metadata": {},
   "source": [
    "_Now that we have $\\frac{df_\\theta}{d\\theta}$ we compute the derivative $\\frac{dJ(\\theta)}{d\\theta}$_\n",
    "\n",
    "_First we consider one point $(x_j, y_j)$_\n",
    "\n",
    "_$$\\frac{dJ(\\theta)}{d\\theta_j} = \\frac{d}{d\\theta_j}y.log(f_\\theta(x_j)) + \\frac{d}{d\\theta_j}(1 - y_j).log(1 - f_\\theta(x))$$_\n",
    "\n",
    "_$$\\frac{dJ(\\theta)}{d\\theta_j} = \\frac{y_j}{f_{\\theta}(x_j)}.\\frac{df_{\\theta_j}(x_j)}{d\\theta_j} + \\frac{1 - y_j}{1 - f_{\\theta_j}(x_j)}.\\frac{-df_{\\theta_j}(x_j)}{d\\theta_j}$$_\n",
    "\n",
    "_$$\\frac{dJ(\\theta)}{d\\theta_j} = \\frac{y_j - y_j.f_\\theta(x) - f_\\theta(x) + y_j.f_\\theta(x)}{f_\\theta(x).(1 - f_\\theta(x))}.\\frac{df_\\theta(x_j)}{d\\theta_j}$$_\n",
    "\n",
    "_$$\\frac{dJ(\\theta)}{d\\theta_j} = (y_j - f_\\theta(x))x_j$$_"
   ]
  },
  {
   "cell_type": "markdown",
   "metadata": {},
   "source": [
    "_Then we derivate for all the components and the entire dataset:_"
   ]
  },
  {
   "cell_type": "markdown",
   "metadata": {},
   "source": [
    "_$$\n",
    "\\frac{dJ(\\theta)}{d\\theta} = \\frac{1}{N}\\sum_{i=1}^{N}(f_\\theta(x^i) - y^i)x\n",
    "$$_\n",
    "\n",
    "This derivative looks like the linear regression loss function derivative, but we can not solve the equation $J(\\theta)=0$ because $f_{\\theta}$ is more complex than the simple product we had with the $W$ matrix"
   ]
  },
  {
   "cell_type": "markdown",
   "metadata": {},
   "source": [
    "- Write a function LogRegTrain(x, y, num_epochs, learning_rate = 0.01) which compute $\\theta$ that minimize $J(\\theta)$"
   ]
  },
  {
   "cell_type": "code",
   "execution_count": 4,
   "metadata": {},
   "outputs": [],
   "source": [
    "def prepend_bias(X):\n",
    "    return np.c_[np.ones((X.shape[0], 1)), X]"
   ]
  },
  {
   "cell_type": "code",
   "execution_count": 5,
   "metadata": {},
   "outputs": [],
   "source": [
    "def logistic(theta, X):\n",
    "    return np.array(1 / (1 + np.exp(np.sum(-theta.T @ X.T, axis=0))))\n",
    "\n",
    "def loss(theta, X, Y):\n",
    "    yhat = logistic(theta, X)\n",
    "    return -np.mean((1 - Y) * np.log(1 - yhat + 1e-9) + Y * np.log(yhat + 1e-9))\n",
    "\n",
    "def loss_derivative(theta, X, Y):\n",
    "    return np.mean(np.diag(logistic(theta, X) - Y) @ X, axis=0).reshape(-1, 1)"
   ]
  },
  {
   "cell_type": "code",
   "execution_count": 6,
   "metadata": {},
   "outputs": [],
   "source": [
    "def LogRegTrain(X, Y, num_epochs, learning_rate=0.05, verbose=True):\n",
    "    old = None\n",
    "    X = prepend_bias(X)\n",
    "    theta = np.zeros((X.shape[1], 1))\n",
    "    for epoch in range(num_epochs):\n",
    "        g = loss_derivative(theta, X, Y)\n",
    "        theta = theta - (learning_rate * g)\n",
    "        l = loss(theta, X, Y)\n",
    "        if old and abs(old - l) < 0.00000001:\n",
    "            break\n",
    "        else:\n",
    "            old = l\n",
    "            if verbose and (not epoch % 5000):\n",
    "                print(f'epoch {epoch}, loss: {l}')\n",
    "    return theta"
   ]
  },
  {
   "cell_type": "code",
   "execution_count": 7,
   "metadata": {},
   "outputs": [
    {
     "name": "stdout",
     "output_type": "stream",
     "text": [
      "epoch 0, loss: 0.6932257853191974\n",
      "epoch 5000, loss: 0.6470080054246986\n",
      "epoch 10000, loss: 0.4600609892121738\n",
      "epoch 15000, loss: 0.40264771793185317\n",
      "epoch 20000, loss: 0.36240565449813167\n",
      "epoch 25000, loss: 0.3329528251957552\n",
      "epoch 30000, loss: 0.31061513260588164\n",
      "epoch 35000, loss: 0.293173646385867\n",
      "epoch 40000, loss: 0.2792258565275868\n",
      "epoch 45000, loss: 0.2678486512494749\n"
     ]
    }
   ],
   "source": [
    "W = LogRegTrain(Xtrain, ytrain, 50000)"
   ]
  },
  {
   "cell_type": "code",
   "execution_count": 8,
   "metadata": {},
   "outputs": [
    {
     "name": "stdout",
     "output_type": "stream",
     "text": [
      "[1 0 0 1 0 0 0 1 0 1 1 1 1 0 1 0 0 1 1 1 0 1 0 1 1 1 1 1 1 1 0 1 1]\n",
      "[1 0 0 1 0 0 0 1 0 1 1 1 1 0 1 0 0 1 1 1 0 1 0 0 1 1 0 1 1 1 0 1 1]\n"
     ]
    }
   ],
   "source": [
    "y_pred = logistic(W, np.c_[np.ones((Xtest.shape[0], 1)), Xtest])\n",
    "y_pred = np.array([int(y > 0.5) for y in y_pred])\n",
    "print(ytest)\n",
    "print(y_pred)"
   ]
  },
  {
   "cell_type": "markdown",
   "metadata": {},
   "source": [
    "- Plot the boundary and checks that it is linear? "
   ]
  },
  {
   "cell_type": "code",
   "execution_count": 9,
   "metadata": {},
   "outputs": [],
   "source": [
    "def prediction_map(predict_fun, xs=10, xe=15, xn=300, ys=0, ye=6, yn=300, transform=None):\n",
    "\n",
    "    x = np.linspace(xs, xe, xn)\n",
    "    y = np.linspace(ys, ye, yn)\n",
    "    inp = np.array(np.meshgrid(x, y)).T.reshape(-1, 2)\n",
    "    if transform:\n",
    "        inp = transform(inp)\n",
    "    inp = np.c_[np.ones((inp.shape[0], 1)), inp]\n",
    "    z = predict_fun(inp).reshape(300, 300).T\n",
    "    \n",
    "    return x, y, z"
   ]
  },
  {
   "cell_type": "code",
   "execution_count": 10,
   "metadata": {},
   "outputs": [],
   "source": [
    "predict_fun = lambda X: logistic(W, X) > 0.5\n",
    "x, y, z = prediction_map(predict_fun, ys=1, ye=4)"
   ]
  },
  {
   "cell_type": "code",
   "execution_count": 11,
   "metadata": {},
   "outputs": [
    {
     "data": {
      "image/png": "[encoded data removed]",
      "text/plain": [
       "<matplotlib.figure.Figure at 0x7fa752ec0198>"
      ]
     },
     "metadata": {},
     "output_type": "display_data"
    }
   ],
   "source": [
    "plt.contourf(x, y, z, alpha=0.25)\n",
    "plot_points(Xtest, y_pred)"
   ]
  },
  {
   "cell_type": "code",
   "execution_count": 12,
   "metadata": {},
   "outputs": [
    {
     "data": {
      "image/png": "[encoded data removed]",
      "text/plain": [
       "<matplotlib.figure.Figure at 0x7fa75c809c50>"
      ]
     },
     "metadata": {},
     "output_type": "display_data"
    }
   ],
   "source": [
    "plt.contourf(x, y, z, alpha=0.25)\n",
    "plot_points(Xtest, ytest)"
   ]
  },
  {
   "cell_type": "code",
   "execution_count": 13,
   "metadata": {},
   "outputs": [
    {
     "data": {
      "image/png": "[encoded data removed]",
      "text/plain": [
       "<matplotlib.figure.Figure at 0x7fa7529e4550>"
      ]
     },
     "metadata": {},
     "output_type": "display_data"
    }
   ],
   "source": [
    "plt.contourf(x, y, z, alpha=0.25)\n",
    "plot_points(Xtrain, ytrain)"
   ]
  },
  {
   "cell_type": "markdown",
   "metadata": {},
   "source": [
    "- How can we obtain a quadratic boundary? check it?"
   ]
  },
  {
   "cell_type": "code",
   "execution_count": 14,
   "metadata": {},
   "outputs": [],
   "source": [
    "def quadratic_transform(x):\n",
    "    return np.c_[x[:, 0], x[:, 1], x[:, 0] ** 2, x[:, 1] ** 2, np.multiply(x[:, 0], x[:,1])]"
   ]
  },
  {
   "cell_type": "code",
   "execution_count": 15,
   "metadata": {},
   "outputs": [
    {
     "name": "stderr",
     "output_type": "stream",
     "text": [
      "/home/nicolas/.anaconda3/lib/python3.6/site-packages/ipykernel_launcher.py:2: RuntimeWarning: overflow encountered in exp\n",
      "  \n"
     ]
    }
   ],
   "source": [
    "W = LogRegTrain(quadratic_transform(Xtrain), ytrain, 20000, verbose=False)\n",
    "x, y, z = prediction_map(predict_fun, ys=1, ye=4, transform=quadratic_transform)"
   ]
  },
  {
   "cell_type": "markdown",
   "metadata": {},
   "source": [
    "_We have a single warning on an overflow happening here. Since it was not harmful for the rest of the computations, I did not take the time to investigate._"
   ]
  },
  {
   "cell_type": "code",
   "execution_count": 16,
   "metadata": {},
   "outputs": [],
   "source": [
    "y_pred = np.around(logistic(W, prepend_bias(quadratic_transform(Xtest))))"
   ]
  },
  {
   "cell_type": "code",
   "execution_count": 17,
   "metadata": {},
   "outputs": [
    {
     "data": {
      "image/png": "[encoded data removed]",
      "text/plain": [
       "<matplotlib.figure.Figure at 0x7fa75299dda0>"
      ]
     },
     "metadata": {},
     "output_type": "display_data"
    }
   ],
   "source": [
    "plt.contourf(x, y, z, alpha=0.25)\n",
    "plot_points(Xtest, ytest)"
   ]
  },
  {
   "cell_type": "code",
   "execution_count": 18,
   "metadata": {},
   "outputs": [
    {
     "data": {
      "image/png": "[encoded data removed]",
      "text/plain": [
       "<matplotlib.figure.Figure at 0x7fa75299d3c8>"
      ]
     },
     "metadata": {},
     "output_type": "display_data"
    }
   ],
   "source": [
    "plt.contourf(x, y, z, alpha=0.25)\n",
    "plot_points(Xtrain, ytrain)"
   ]
  },
  {
   "cell_type": "markdown",
   "metadata": {},
   "source": [
    "# Multinomial Logistic Regression\n",
    "\n",
    "The next step is something more interesting: we use a similar set of two features from the data set (this time alcohol and flavanoids), but with all three labels instead of two."
   ]
  },
  {
   "cell_type": "code",
   "execution_count": 19,
   "metadata": {},
   "outputs": [
    {
     "data": {
      "image/png": "[encoded data removed]",
      "text/plain": [
       "<matplotlib.figure.Figure at 0x7fa752a45c88>"
      ]
     },
     "metadata": {},
     "output_type": "display_data"
    }
   ],
   "source": [
    "X = data.as_matrix(columns=['alcohol', 'flavanoids'])\n",
    "y = data.as_matrix(columns=['class'])\n",
    "Xtrain, Xtest, ytrain, ytest = train_test_split(X, y, test_size=0.25)\n",
    "ytrain = label_binarize(ytrain, [1, 2, 3])\n",
    "\n",
    "plot_points(Xtrain, ytrain.argmax(axis=1))"
   ]
  },
  {
   "cell_type": "markdown",
   "metadata": {},
   "source": [
    "The plotted data points again suggest some obvious linear boundaries between the three classes.\n",
    "\n",
    "We can solve this problem as three one-vs-all problems, and re-use all the previous code. In this part, we will try another solution inspired from softmax function known as softmax regression (See C.Bishop, \"Pattern Recognition and Machine Learning\", 2006, Springer).\n",
    "\n",
    "$$\n",
    "S_{\\theta, k}(x) = \\frac{e^{\\theta_k^Tx}}{\\sum\\limits_{c=1}^K e^{\\theta_c^Tx}}\n",
    "$$"
   ]
  },
  {
   "cell_type": "markdown",
   "metadata": {},
   "source": [
    "_In order to optimize J(\\theta), we first compute the softmax derivative on each component:_\n",
    "\n",
    "_**case 1: $j = k$**_\n",
    "\n",
    "_let $\\sum$ denote $\\sum\\limits^K_{c=1}e^{\\theta^T_cx}$_\n",
    "\n",
    "_$$\n",
    "\\frac{dS_{\\theta, k}(x)}{d\\theta_j} = \\frac{\\frac{de^{\\theta_k^Tx}}{d\\theta_j}.\\sum - \\frac{de^{\\theta_j^Tx}}{d\\theta_j}.e^{\\theta^Tx_k}}{\\sum^2}\n",
    "$$_\n",
    "\n",
    "_$$\\frac{dS_{\\theta, k}(x)}{d\\theta_j} = x_j.S_{\\theta,j}(x).\\frac{\\sum - e^{\\theta^Tx_k}}{\\sum}$$_\n",
    "\n",
    "_$$\\frac{dS_{\\theta, k}(x)}{d\\theta_j} = x_j.S_{\\theta,j}(x).(1 - x_j.S_{\\theta,k}(x))$$_"
   ]
  },
  {
   "cell_type": "markdown",
   "metadata": {},
   "source": [
    "_**case 2: $j \\neq k$**_\n",
    "\n",
    "_$$\n",
    "\\frac{dS_{\\theta, k}(x)}{d\\theta_j} = \\frac{-\\frac{de^{\\theta_j^Tx}}{d\\theta_j}.e^{\\theta_k^Tx}}{\\sum^2}\n",
    "$$_\n",
    "_$$\n",
    "\\frac{dS_{\\theta, k}(x)}{d\\theta_j} = \\frac{-x_j.e^{\\theta_j^Tx}.e^{\\theta^T_kx}}{\\sum^2}\n",
    "$$_\n",
    "_$$\n",
    "\\frac{dS_{\\theta, k}(x)}{d\\theta_j} = x_j.S_{\\theta, j}(x).(-S_{\\theta, k}(x))\n",
    "$$_"
   ]
  },
  {
   "cell_type": "markdown",
   "metadata": {},
   "source": [
    "_Combining both results, we obtain the following:_\n",
    "\n",
    "_$$\\frac{dS_{\\theta, k}(x)}{d\\theta_j} = x_j.S_{\\theta,j}(x).(I_k - x_j.S_{\\theta,k}(x))$$_\n",
    "\n",
    "_Where $I_k$ denotes the identity matrix. This form is the same as the derivative of the logistic function. We can prove in a similar way that:_"
   ]
  },
  {
   "cell_type": "markdown",
   "metadata": {},
   "source": [
    "_$$\n",
    "\\frac{dJ(\\theta)}{d\\theta} = \\frac{1}{N}\\sum_{i=1}^{N}(S_\\theta(x_i) - y_i)x\n",
    "$$_\n",
    "\n",
    "This derivative looks like the linear regression loss function derivative, but we can not solve the equation $J(\\theta)=0$ because $f_{\\theta}$ is more complex than the simple product we had with the $W$ matrix"
   ]
  },
  {
   "cell_type": "code",
   "execution_count": 20,
   "metadata": {},
   "outputs": [],
   "source": [
    "def softmax(w, x):\n",
    "    wx = x @ w\n",
    "    u = np.exp(wx)\n",
    "    v = np.sum(u, axis=-1).reshape(-1,1)\n",
    "    softmax = u / v\n",
    "    return softmax\n",
    "\n",
    "def xlogx(y1, y2):\n",
    "    res = np.zeros(y1.shape)\n",
    "    ind = np.where(y1 != 0)\n",
    "    res[ind] = np.multiply(y1[ind], np.log(y2[ind]))\n",
    "    return res\n",
    "\n",
    "def cost(w, x, y, yhat):\n",
    "    K = w.shape[1]\n",
    "    s = 0\n",
    "    for k in range(K):\n",
    "        s += np.sum(xlogx(y[:, k], yhat[:, k]))\n",
    "    return -s / len(y)"
   ]
  },
  {
   "cell_type": "code",
   "execution_count": 21,
   "metadata": {},
   "outputs": [],
   "source": [
    "def MultinomialTrain(x, y, num_epochs, learning_rate=0.03, regularisation=lambda w: 0):\n",
    "    N = x.shape[0]\n",
    "    x = prepend_bias(x)\n",
    "    d = x.shape[1]\n",
    "    K = y.shape[1]\n",
    "    w = np.zeros((d, K))\n",
    "        \n",
    "    for i in range(num_epochs):\n",
    "        yhat = softmax(w, x)\n",
    "        j = cost(w, x, y, yhat)\n",
    "        error = yhat - y\n",
    "        if ((i % 10000) == 0):\n",
    "            print('Iteration : ', i, 'Error -LLK : ', j, ' Error MSE :', np.linalg.norm(error))\n",
    "        dj = x.T.dot(error) / N\n",
    "        w = w - learning_rate * dj\n",
    "    return w"
   ]
  },
  {
   "cell_type": "code",
   "execution_count": 22,
   "metadata": {},
   "outputs": [
    {
     "name": "stdout",
     "output_type": "stream",
     "text": [
      "Iteration :  0 Error -LLK :  1.09861228866811  Error MSE : 9.416297927883692\n",
      "Iteration :  10000 Error -LLK :  0.390106086285045  Error MSE : 5.480377872560311\n",
      "Iteration :  20000 Error -LLK :  0.3271162451255301  Error MSE : 4.91375176985452\n",
      "Iteration :  30000 Error -LLK :  0.2909785026904677  Error MSE : 4.592443237776604\n",
      "Iteration :  40000 Error -LLK :  0.2676619452978632  Error MSE : 4.389567479972864\n",
      "Iteration :  50000 Error -LLK :  0.25141081627867634  Error MSE : 4.251371070593083\n",
      "Iteration :  60000 Error -LLK :  0.23944194194658494  Error MSE : 4.1519612040139675\n",
      "Iteration :  70000 Error -LLK :  0.23025771902027242  Error MSE : 4.077481299900612\n",
      "Iteration :  80000 Error -LLK :  0.22298505418259135  Error MSE : 4.019897484762717\n",
      "Iteration :  90000 Error -LLK :  0.21708190447229325  Error MSE : 3.974253310904491\n"
     ]
    }
   ],
   "source": [
    "W = MultinomialTrain(Xtrain, ytrain, 100000)"
   ]
  },
  {
   "cell_type": "markdown",
   "metadata": {},
   "source": [
    "_As we can see this training requires an important number of epochs, and is quite slow. We'll later use the Newton method in order to speed things up, and to be more stable numerically._"
   ]
  },
  {
   "cell_type": "markdown",
   "metadata": {},
   "source": [
    "- Propose a solution using this function and test it with linear and quadratic separator? "
   ]
  },
  {
   "cell_type": "code",
   "execution_count": 23,
   "metadata": {},
   "outputs": [
    {
     "name": "stdout",
     "output_type": "stream",
     "text": [
      "[1 3 1 3 1 1 1 3 3 2 2 2 2 1 3 1 3 3 2 2 1 1 3 3 3 2 2 1 1 1 2 3 1 1 2]\n",
      "[1 3 1 3 2 1 2 2 3 1 2 2 2 1 3 1 3 3 2 2 1 1 3 3 3 2 2 2 1 1 3 2 1 1 2]\n"
     ]
    }
   ],
   "source": [
    "y_pred = softmax(W, prepend_bias(Xtest))\n",
    "y_pred = np.array([np.argmax(y) + 1 for y in y_pred])\n",
    "print(ytest.T[0, :35])\n",
    "print(y_pred[:35])"
   ]
  },
  {
   "cell_type": "code",
   "execution_count": 24,
   "metadata": {},
   "outputs": [],
   "source": [
    "predict_fun = lambda X: np.argmax(softmax(W, X), axis=1)\n",
    "x, y, z = prediction_map(predict_fun, xs=10.7, ye=5.5)"
   ]
  },
  {
   "cell_type": "code",
   "execution_count": 25,
   "metadata": {},
   "outputs": [
    {
     "data": {
      "image/png": "[encoded data removed]",
      "text/plain": [
       "<matplotlib.figure.Figure at 0x7fa752887898>"
      ]
     },
     "metadata": {},
     "output_type": "display_data"
    }
   ],
   "source": [
    "plt.contourf(x, y, z, alpha=0.25)\n",
    "plot_points(Xtest, ytest[:, 0])"
   ]
  },
  {
   "cell_type": "code",
   "execution_count": 26,
   "metadata": {},
   "outputs": [
    {
     "data": {
      "image/png": "[encoded data removed]",
      "text/plain": [
       "<matplotlib.figure.Figure at 0x7fa752801780>"
      ]
     },
     "metadata": {},
     "output_type": "display_data"
    }
   ],
   "source": [
    "plt.contourf(x, y, z, alpha=0.25)\n",
    "plot_points(Xtrain, ytrain.argmax(axis=1))"
   ]
  },
  {
   "cell_type": "markdown",
   "metadata": {},
   "source": [
    "_The quadratic separator can not be computed with our bare metal SGD algorithm. We face too many problems of numeric stability. For the following parts, we will use the Newton method, which happen to be much faster on this task. This method is more stable because it needs a far inferior number of epochs_"
   ]
  },
  {
   "cell_type": "code",
   "execution_count": 27,
   "metadata": {},
   "outputs": [],
   "source": [
    "def MultinomialTrainNewton(x, y, precision=.01, \n",
    "                           dreg=lambda w, l: 0., l_reg=1,\n",
    "                           verbose=True):\n",
    "    N = x.shape[0]\n",
    "    x = np.c_[np.ones((N, 1)), x]\n",
    "    d = x.shape[1]\n",
    "    K = y.shape[1]\n",
    "    y = y.reshape((N, K))\n",
    "    w = np.zeros((d, K))\n",
    "    diff = precision + 1\n",
    "    i = 0;\n",
    "    while (diff > precision):\n",
    "        yhat = softmax(w, x)\n",
    "        j = cost(w, x, y, yhat) + l_reg\n",
    "        error = yhat.reshape((N, K)) - y.reshape((N, K))\n",
    "        if i % 10000 == 0 and verbose:\n",
    "            print('Iteration : ', i, 'Error -LLK : ', j, ' Error MSE :', np.linalg.norm(error))\n",
    "        dj = x.T.dot(error)/ N + dreg(w, l_reg)\n",
    "\n",
    "        diff = 0\n",
    "        for k in range(K):\n",
    "            diag = np.diag(np.multiply(yhat[:, k], 1 - yhat[:, k]))\n",
    "            d2j = x.T.dot(diag).dot(x) \n",
    "            d2j += l_reg * np.eye(d2j.shape[0], d2j.shape[1])\n",
    "            delta = np.linalg.inv(d2j) @ dj[:, k]\n",
    "            w[:, k] -= delta\n",
    "            diff += np.linalg.norm(delta)\n",
    "        i = i + 1\n",
    "    verbose and print(f'{i} iterations')\n",
    "    return w"
   ]
  },
  {
   "cell_type": "code",
   "execution_count": 28,
   "metadata": {},
   "outputs": [
    {
     "name": "stdout",
     "output_type": "stream",
     "text": [
      "Iteration :  0 Error -LLK :  2.09861228866811  Error MSE : 9.416297927883692\n",
      "333 iterations\n"
     ]
    }
   ],
   "source": [
    "x = quadratic_transform(Xtrain)\n",
    "W = MultinomialTrainNewton(x, ytrain)"
   ]
  },
  {
   "cell_type": "code",
   "execution_count": 29,
   "metadata": {},
   "outputs": [
    {
     "name": "stdout",
     "output_type": "stream",
     "text": [
      "[1 3 1 3 1 1 2 3 3 1 2 2 2 1 3 1 3 3 2 2 1 1 3 3 3 2 2 1 1 1 2 2 1 1 2 1 1\n",
      " 1 3 1 1 2 1 1 2]\n",
      "[1 3 1 3 1 1 1 3 3 2 2 2 2 1 3 1 3 3 2 2 1 1 3 3 3 2 2 1 1 1 2 3 1 1 2 1 1\n",
      " 1 3 1 2 2 1 1 2]\n"
     ]
    }
   ],
   "source": [
    "y_pred = softmax(W, prepend_bias(quadratic_transform(Xtest))).argmax(axis=1) + 1\n",
    "print(y_pred)\n",
    "print(ytest.T[0])"
   ]
  },
  {
   "cell_type": "code",
   "execution_count": 30,
   "metadata": {},
   "outputs": [],
   "source": [
    "predict_fun = lambda X: np.argmax(softmax(W, X), axis=1)\n",
    "x, y, z = prediction_map(predict_fun, xs=10, xe=15, ys=0, ye=6, transform=quadratic_transform)"
   ]
  },
  {
   "cell_type": "code",
   "execution_count": 31,
   "metadata": {},
   "outputs": [
    {
     "data": {
      "image/png": "[encoded data removed]",
      "text/plain": [
       "<matplotlib.figure.Figure at 0x7fa752849630>"
      ]
     },
     "metadata": {},
     "output_type": "display_data"
    }
   ],
   "source": [
    "plt.contourf(x, y, z, alpha=0.25)\n",
    "plot_points(Xtest, y_pred)"
   ]
  },
  {
   "cell_type": "code",
   "execution_count": 32,
   "metadata": {},
   "outputs": [
    {
     "data": {
      "image/png": "[encoded data removed]",
      "text/plain": [
       "<matplotlib.figure.Figure at 0x7fa75282b940>"
      ]
     },
     "metadata": {},
     "output_type": "display_data"
    }
   ],
   "source": [
    "plt.contourf(x, y, z, alpha=0.25)\n",
    "plot_points(Xtest, ytest.T[0])"
   ]
  },
  {
   "cell_type": "code",
   "execution_count": 33,
   "metadata": {},
   "outputs": [
    {
     "data": {
      "image/png": "[encoded data removed]",
      "text/plain": [
       "<matplotlib.figure.Figure at 0x7fa75298e4e0>"
      ]
     },
     "metadata": {},
     "output_type": "display_data"
    }
   ],
   "source": [
    "plt.contourf(x, y, z, alpha=0.25)\n",
    "plot_points(Xtrain, ytrain.argmax(axis=1))"
   ]
  },
  {
   "cell_type": "markdown",
   "metadata": {},
   "source": [
    "# Regularization\n",
    "\n",
    "Next, we want to include all the features from the data set.  "
   ]
  },
  {
   "cell_type": "code",
   "execution_count": 34,
   "metadata": {},
   "outputs": [],
   "source": [
    "X = data.drop('class', 1).as_matrix().astype(np.int64)\n",
    "y = data.as_matrix(columns=['class'])\n",
    "Xtrain, Xtest, ytrain, ytest = train_test_split(X, y, test_size=0.25)\n",
    "ytrain = label_binarize(ytrain, [1, 2, 3])"
   ]
  },
  {
   "cell_type": "markdown",
   "metadata": {},
   "source": [
    "Because we are now significantly increasing the number of features, we apply regularisation  as part of new cost and gradient functions.  As we have seen with linear regression, regularization prevents overfitting, a situation where a large number of features allows the classifier to fit the training set *too* exactly, meaning that it fails to generalize well and perform accurately on data it hasn't yet seen.\n",
    "\n",
    "To avoid this problem, we add an additional term to the cost function\n",
    "\n",
    "$$\n",
    "J(\\theta) =-\\frac{1}{N}\\sum_{i=1}^{N}[y^{i}\\log(f_\\theta(x^{i}))+(1-y^{i})\\log(1-f_\\theta(x^{i}))] + \\frac{\\lambda}{2}\\|\\theta\\|_2^2\n",
    "$$\n",
    "\n",
    "- Compute the partiel derivatives of $J(\\theta)$ and define the update formula of the gradient descent algorithm?"
   ]
  },
  {
   "cell_type": "code",
   "execution_count": 35,
   "metadata": {},
   "outputs": [],
   "source": [
    "def l2_regularisation(theta, lam):\n",
    "    return (lam / 2) * np.linalg.norm(theta) ** 2\n",
    "\n",
    "def delta_l2_regularisation(theta, lam):\n",
    "    return (lam * theta)"
   ]
  },
  {
   "cell_type": "markdown",
   "metadata": {},
   "source": [
    "- Write a function that minimize $J(\\theta)$ and test it on the WINE dataset?"
   ]
  },
  {
   "cell_type": "code",
   "execution_count": 36,
   "metadata": {},
   "outputs": [
    {
     "name": "stdout",
     "output_type": "stream",
     "text": [
      "Iteration :  0 Error -LLK :  2.09861228866811  Error MSE : 9.41629792788369\n",
      "617 iterations\n"
     ]
    }
   ],
   "source": [
    "W1 = MultinomialTrainNewton(Xtrain, ytrain)"
   ]
  },
  {
   "cell_type": "code",
   "execution_count": 37,
   "metadata": {},
   "outputs": [
    {
     "name": "stdout",
     "output_type": "stream",
     "text": [
      "[2 2 2 1 1 2 2 1 1 1 1 3 3 2 3 1 3 2 1 2 2 2 3 3 2 2 1 3 2 1 2 1 1 2 2 2 1\n",
      " 3 2 2 3 2 2 3 2]\n",
      "[1 3 2 1 1 2 2 1 1 1 1 3 3 2 3 1 3 2 2 2 2 2 3 3 2 2 1 3 2 1 2 1 1 2 2 2 1\n",
      " 3 2 2 3 2 2 3 2]\n"
     ]
    }
   ],
   "source": [
    "y_pred = softmax(W1, prepend_bias(Xtest)).argmax(axis=1) + 1\n",
    "print(ytest.T[0])\n",
    "print(y_pred)"
   ]
  },
  {
   "cell_type": "code",
   "execution_count": 38,
   "metadata": {},
   "outputs": [],
   "source": [
    "from sklearn.metrics import accuracy_score"
   ]
  },
  {
   "cell_type": "code",
   "execution_count": 39,
   "metadata": {},
   "outputs": [
    {
     "name": "stdout",
     "output_type": "stream",
     "text": [
      "regularisation: 1.2589254117941673,\taccuracy: 0.9333333333333333\n",
      "regularisation: 2.818382931264454,\taccuracy: 0.9333333333333333\n",
      "regularisation: 6.309573444801933,\taccuracy: 0.9333333333333333\n",
      "regularisation: 14.125375446227547,\taccuracy: 0.9555555555555556\n",
      "regularisation: 31.62277660168381,\taccuracy: 0.9555555555555556\n",
      "regularisation: 70.79457843841384,\taccuracy: 0.9555555555555556\n",
      "regularisation: 158.48931924611142,\taccuracy: 0.9111111111111111\n",
      "regularisation: 354.81338923357566,\taccuracy: 0.8666666666666667\n",
      "regularisation: 794.3282347242822,\taccuracy: 0.8222222222222222\n",
      "regularisation: 1778.2794100389247,\taccuracy: 0.7555555555555555\n",
      "regularisation: 3981.0717055349774,\taccuracy: 0.7111111111111111\n",
      "regularisation: 8912.509381337468,\taccuracy: 0.7111111111111111\n",
      "regularisation: 19952.62314968879,\taccuracy: 0.6888888888888889\n",
      "regularisation: 44668.359215096345,\taccuracy: 0.6444444444444445\n",
      "regularisation: 100000.0,\taccuracy: 0.6222222222222222\n"
     ]
    }
   ],
   "source": [
    "for l_reg in np.logspace(0.1, 5, 15):\n",
    "    dreg=lambda w, l: w * l\n",
    "    W = MultinomialTrainNewton(Xtrain, ytrain, verbose=False, dreg=dreg, l_reg=l_reg)\n",
    "    y_pred = softmax(W, np.c_[np.ones((Xtest.shape[0], 1)), Xtest])\n",
    "    y_pred = np.array([np.argmax(y) + 1 for y in y_pred])\n",
    "    acc=accuracy_score(ytest.T[0], y_pred)\n",
    "    print(f'regularisation: {l_reg},\\taccuracy: {acc}')"
   ]
  },
  {
   "cell_type": "markdown",
   "metadata": {},
   "source": [
    "- Compare with non regularized version?"
   ]
  },
  {
   "cell_type": "code",
   "execution_count": 40,
   "metadata": {},
   "outputs": [
    {
     "name": "stdout",
     "output_type": "stream",
     "text": [
      "0.9333333333333333\n"
     ]
    }
   ],
   "source": [
    "W = MultinomialTrainNewton(Xtrain, ytrain, verbose=False)\n",
    "y_pred = softmax(W, np.c_[np.ones((Xtest.shape[0], 1)), Xtest])\n",
    "y_pred = np.array([np.argmax(y) + 1 for y in y_pred])\n",
    "acc=accuracy_score(ytest.T[0], y_pred)\n",
    "print(acc)"
   ]
  },
  {
   "cell_type": "markdown",
   "metadata": {},
   "source": [
    "_We can see that the regularisation affects the accuracy of the obtained model. At a certain point, the model is less able to learn the features of the dataset, and we underfit. On the other hand, a well chosen regularization prevents the overfitting_"
   ]
  },
  {
   "cell_type": "markdown",
   "metadata": {},
   "source": [
    "## TODO:\n",
    "\n",
    "- [x] regularisation\n",
    "- [x] nice derivatives\n",
    "- [x] newton\n",
    "- [x] quadratic\n",
    "- [x] frontier plot reda style\n",
    "- [x] compare regularized/non regularized\n",
    "- [x] conclusion"
   ]
  }
 ],
 "metadata": {
  "kernelspec": {
   "display_name": "Python 3",
   "language": "python",
   "name": "python3"
  },
  "language_info": {
   "codemirror_mode": {
    "name": "ipython",
    "version": 3
   },
   "file_extension": ".py",
   "mimetype": "text/x-python",
   "name": "python",
   "nbconvert_exporter": "python",
   "pygments_lexer": "ipython3",
   "version": "3.6.4"
  }
 },
 "nbformat": 4,
 "nbformat_minor": 2
}
