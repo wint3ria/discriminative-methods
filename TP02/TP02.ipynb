{
 "cells": [
  {
   "cell_type": "markdown",
   "metadata": {},
   "source": [
    "# <center> TP 2: Regularised Regression and Logistic Regression<br> <small>Réda DEHAK<br> 19 and 22 November 2018</small> </center>\n",
    "\n",
    "The goal of this lab is :\n",
    "    - Fit generalised linear models with ridge, Lasso or Elastic Net regularisations\n",
    "    - Test the logistic regression on classification problems\n",
    "    \n",
    "We will use a data file that contain different measurements of height (variable y) of an individual sample according to the age (variable x)."
   ]
  },
  {
   "cell_type": "markdown",
   "metadata": {},
   "source": [
    "## Part 1: Regularised Regression \n",
    "### Import Data\n",
    "\n",
    "The following dataset is from Hastie, Tibshirani and Friedman (2009), from a study by Stamey et al. (1989) of prostate cancer, measuring the correlation between the level of a prostate-specific antigen and some covariates. The covariates are\n",
    "- lcavol : log-cancer volume\n",
    "-  lweight : log-prostate weight\n",
    "-  age : age of patient\n",
    "-  lbhp : log-amount of benign hyperplasia\n",
    "-  svi : seminal vesicle invasion\n",
    "-  lcp : log-capsular penetration\n",
    "-  gleason : Gleason Score,\n",
    "-  lpsa is the response variable, log-psa."
   ]
  },
  {
   "cell_type": "code",
   "execution_count": null,
   "metadata": {},
   "outputs": [],
   "source": [
    "%pylab\n",
    "%matplotlib inline\n",
    "import pickle\n",
    "import matplotlib.pyplot as plt\n",
    "import numpy as np\n",
    "from sklearn import linear_model"
   ]
  },
  {
   "cell_type": "code",
   "execution_count": null,
   "metadata": {},
   "outputs": [],
   "source": [
    "fin = open('data2.pkl', 'rb')\n",
    "xtrain = pickle.load(fin)\n",
    "ytrain = pickle.load(fin)\n",
    "Xtest = pickle.load(fin)\n",
    "Ytest = pickle.load(fin)\n",
    "fin.close()\n",
    "\n",
    "print('Train data : ', xtrain.shape, ' ', ytrain.shape)\n",
    "print('Test data : ', Xtest.shape, ' ', Ytest.shape)"
   ]
  },
  {
   "cell_type": "markdown",
   "metadata": {},
   "source": [
    "### Linear Regression\n",
    "\n",
    "Using the program of TP 1, compute the linear regression weight $w$\n",
    "\n",
    "$$y = g(x) = W^T x =\\sum_{d=0}^7 w_d x_d$$\n",
    "with $x_0 = 1$\n",
    "\n",
    "The linear regression consists in finding the parameters $W$ which minimizes the \n",
    "quadratic error:\n",
    "$$E(W) = \\frac{1}{60}\\sum_{i=1}^{60}\\left(g(x_i) - y_i\\right)^2$$\n",
    "\n",
    "The vector $W$ which minimize $E(W)$ is defined as follow:\n",
    "$$W = (X X^T)^{-1}X Y$$\n",
    "\n",
    "Compute the vector $W$ wich minimize $E(W)$ :\n",
    "- Compute $w$ using the exact solution\n",
    "- Compute the error on test data"
   ]
  },
  {
   "cell_type": "code",
   "execution_count": null,
   "metadata": {},
   "outputs": [],
   "source": []
  },
  {
   "cell_type": "markdown",
   "metadata": {},
   "source": [
    "- Check that you obtain the same $W$ with sklean.linear_model.LinearRegression?"
   ]
  },
  {
   "cell_type": "markdown",
   "metadata": {},
   "source": [
    "### Ridge regression\n",
    "\n",
    "The ridge regression consists in finding the parameters $W$ which minimizes:\n",
    "$$\\frac{1}{60}\\sum_{i=1}^{60}\\left(W^T x_i - y_i\\right)^2 + \\alpha \\|W\\|_2^2$$ \n",
    "\n",
    "- Using linear_model.Ridge and $\\alpha = 0.$, check that you obtain the same $W$ as linear regression"
   ]
  },
  {
   "cell_type": "code",
   "execution_count": null,
   "metadata": {},
   "outputs": [],
   "source": []
  },
  {
   "cell_type": "markdown",
   "metadata": {},
   "source": [
    "In this part, we will check the influence of $\\alpha$ on the solution of the linear regression\n",
    "\n",
    "- Train a ridge regression with different values of $\\alpha$ = np.logspace(-5, 5, 200)\n",
    "- Plot how evolve each $W_i$ through the sequence of $\\alpha$ values.\n",
    "- Plot how evolve the mean square error through the sequence of $\\alpha$ values.\n",
    "- Conclude"
   ]
  },
  {
   "cell_type": "code",
   "execution_count": 1,
   "metadata": {},
   "outputs": [
    {
     "ename": "NameError",
     "evalue": "name 'np' is not defined",
     "output_type": "error",
     "traceback": [
      "\u001b[0;31m---------------------------------------------------------------------------\u001b[0m",
      "\u001b[0;31mNameError\u001b[0m                                 Traceback (most recent call last)",
      "\u001b[0;32m<ipython-input-1-6e7d680596ca>\u001b[0m in \u001b[0;36m<module>\u001b[0;34m()\u001b[0m\n\u001b[0;32m----> 1\u001b[0;31m \u001b[0malphas\u001b[0m \u001b[0;34m=\u001b[0m \u001b[0mnp\u001b[0m\u001b[0;34m.\u001b[0m\u001b[0mlogspace\u001b[0m\u001b[0;34m(\u001b[0m\u001b[0;34m-\u001b[0m\u001b[0;36m4\u001b[0m\u001b[0;34m,\u001b[0m \u001b[0;36m2\u001b[0m\u001b[0;34m,\u001b[0m \u001b[0;36m100\u001b[0m\u001b[0;34m)\u001b[0m\u001b[0;34m\u001b[0m\u001b[0;34m\u001b[0m\u001b[0m\n\u001b[0m",
      "\u001b[0;31mNameError\u001b[0m: name 'np' is not defined"
     ]
    }
   ],
   "source": [
    "alphas = np.logspace(-4, 2, 100)\n",
    "..."
   ]
  },
  {
   "cell_type": "markdown",
   "metadata": {},
   "source": [
    "### Lasso regression\n",
    "\n",
    "The ridge regression consists in finding the parameters $W$ which minimizes:\n",
    "$$\\frac{1}{2 \\times 60}\\sum_{i=1}^{60}\\left(W^T x_i - y_i\\right)^2 + \\alpha \\|W\\|_1$$\n",
    "\n",
    "- Using linear_model.Lasso and $\\alpha = 0.$, check that you obtain the same $W$ as linear regression"
   ]
  },
  {
   "cell_type": "code",
   "execution_count": null,
   "metadata": {},
   "outputs": [],
   "source": []
  },
  {
   "cell_type": "markdown",
   "metadata": {},
   "source": [
    "In this part, we will check the influence of $\\alpha$ on the solution of the linear regression\n",
    "\n",
    "- Train a Lasso regression with different values of $\\alpha$ = np.logspace(-5, 5, 200)\n",
    "- Plot how evolve each $W_i$ through the sequence of $\\alpha$ values.\n",
    "- Plot how evolve the mean square error through the sequence of $\\alpha$ values."
   ]
  },
  {
   "cell_type": "code",
   "execution_count": null,
   "metadata": {},
   "outputs": [],
   "source": []
  },
  {
   "cell_type": "markdown",
   "metadata": {},
   "source": [
    "Compare the result with ridge solution?"
   ]
  },
  {
   "cell_type": "code",
   "execution_count": null,
   "metadata": {},
   "outputs": [],
   "source": []
  },
  {
   "cell_type": "markdown",
   "metadata": {},
   "source": [
    "### Elastic Net regression\n",
    "\n",
    "The ridge regression consists in finding the parameters $W$ which minimizes:\n",
    "$$\\frac{1}{2 \\times 60}\\sum_{i=1}^{60}\\left(W^T x_i - y_i\\right)^2 + \\alpha \\times \\lambda \\|W\\|_1 + \\frac{1}{2} \\alpha \\times (1 - \\lambda) \\|w\\|^2_2 $$\n",
    "\n",
    "- Using linear_model.ElasticNet and $\\alpha = 0.$, check that you obtain the same $W$ as linear regression"
   ]
  },
  {
   "cell_type": "code",
   "execution_count": null,
   "metadata": {},
   "outputs": [],
   "source": []
  },
  {
   "cell_type": "markdown",
   "metadata": {},
   "source": [
    "In this part, we will check the influence of $\\alpha$ and $\\lambda$ on the solution of the linear regression\n",
    "\n",
    "- Train an ElasticNet regression with different values of $\\alpha$ = np.logspace(-5, 5, 200) and $\\lambda$ = np.linspace(0, 1, 50)\n",
    "- Plot how evolve each $W_i$ through the sequence of $\\alpha$ and $\\lambda$ values.\n",
    "- Plot how evolve the mean square error through the sequence of $\\alpha$ and $\\lambda$ values."
   ]
  },
  {
   "cell_type": "code",
   "execution_count": null,
   "metadata": {},
   "outputs": [],
   "source": []
  },
  {
   "cell_type": "markdown",
   "metadata": {},
   "source": [
    "- What is the best solution?"
   ]
  },
  {
   "cell_type": "code",
   "execution_count": null,
   "metadata": {},
   "outputs": [],
   "source": []
  },
  {
   "cell_type": "markdown",
   "metadata": {},
   "source": [
    "- Conclude ?"
   ]
  },
  {
   "cell_type": "code",
   "execution_count": null,
   "metadata": {},
   "outputs": [],
   "source": []
  }
 ],
 "metadata": {
  "kernelspec": {
   "display_name": "Python 3",
   "language": "python",
   "name": "python3"
  },
  "language_info": {
   "codemirror_mode": {
    "name": "ipython",
    "version": 3
   },
   "file_extension": ".py",
   "mimetype": "text/x-python",
   "name": "python",
   "nbconvert_exporter": "python",
   "pygments_lexer": "ipython3",
   "version": "3.6.7"
  }
 },
 "nbformat": 4,
 "nbformat_minor": 2
}
